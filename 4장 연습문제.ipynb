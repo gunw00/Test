{
 "cells": [
  {
   "cell_type": "code",
   "execution_count": 8,
   "metadata": {},
   "outputs": [
    {
     "data": {
      "text/plain": [
       "True"
      ]
     },
     "execution_count": 8,
     "metadata": {},
     "output_type": "execute_result"
    }
   ],
   "source": [
    "#Q1 홀수, 짝수 구별함수\n",
    "def is_odd(number) :\n",
    "    if number%2==1 :\n",
    "        return True\n",
    "    else :\n",
    "        return False\n",
    "is_odd(113)"
   ]
  },
  {
   "cell_type": "code",
   "execution_count": 10,
   "metadata": {},
   "outputs": [
    {
     "name": "stdout",
     "output_type": "stream",
     "text": [
      "1.5 3.0\n"
     ]
    }
   ],
   "source": [
    "#Q2 calculate mean\n",
    "def avg_num(*args):\n",
    "    result = 0\n",
    "    for i in args:\n",
    "        result+=i\n",
    "    return(result/len(args))\n",
    "print(avg_num(1,2),avg_num(1,2,3,4,5))"
   ]
  },
  {
   "cell_type": "code",
   "execution_count": 12,
   "metadata": {},
   "outputs": [
    {
     "name": "stdout",
     "output_type": "stream",
     "text": [
      "Enter the first num:3\n",
      "Enter the second num:6\n",
      "Sum of two num is 9\n"
     ]
    }
   ],
   "source": [
    "#Q3 Find error and fix it\n",
    "'''\n",
    "input1 = input('Enter the first num:')\n",
    "input2 = input('Enter the second num:')\n",
    "\n",
    "total = input1+input2\n",
    "print(\"Sum of two num is %s\"%total)\n",
    "'''\n",
    "'''\n",
    "Enter the first num:3\n",
    "Enter the second num:6\n",
    "Sum of two num is 36\n",
    "'''\n",
    "\n",
    "input1 = int(input('Enter the first num:'))\n",
    "input2 = int(input('Enter the second num:'))\n",
    "\n",
    "total = input1+input2\n",
    "print(\"Sum of two num is %s\"%total)"
   ]
  },
  {
   "cell_type": "code",
   "execution_count": 19,
   "metadata": {},
   "outputs": [
    {
     "name": "stdout",
     "output_type": "stream",
     "text": [
      "you need python\n"
     ]
    }
   ],
   "source": [
    "#Q4 Choose different result\n",
    "print(\"you\",\"need\",\"python\")"
   ]
  },
  {
   "cell_type": "code",
   "execution_count": 24,
   "metadata": {},
   "outputs": [
    {
     "name": "stdout",
     "output_type": "stream",
     "text": [
      "Life is too short\n"
     ]
    }
   ],
   "source": [
    "#Q5 Modify the code to print what we want\n",
    "\"\"\"\n",
    "f1 = open('test1.txt','w')\n",
    "f1.write(\"Life is too short\")\n",
    "\n",
    "f2 = open('test1.txt','r')\n",
    "print(f2.read())\n",
    "\"\"\"\n",
    "\n",
    "f1 = open('test1.txt','w')\n",
    "f1.write(\"Life is too short\")\n",
    "f1.close()\n",
    "\n",
    "f2 = open('test1.txt','r')\n",
    "print(f2.read())\n"
   ]
  },
  {
   "cell_type": "code",
   "execution_count": 25,
   "metadata": {},
   "outputs": [
    {
     "name": "stdout",
     "output_type": "stream",
     "text": [
      "Enter contents to save:Please let me go home\n"
     ]
    }
   ],
   "source": [
    "#Q6 Write code\n",
    "user_input = input(\"Enter contents to save:\")\n",
    "f= open('test2.txt','a')\n",
    "f.write(user_input)\n",
    "f.write('\\n')\n",
    "f.close()"
   ]
  },
  {
   "cell_type": "code",
   "execution_count": 26,
   "metadata": {},
   "outputs": [],
   "source": [
    "#Q7 Write code \n",
    "f = open('test3.txt','w')\n",
    "f.write(\"Life is too short\\nyou need java\")\n",
    "f.close()"
   ]
  },
  {
   "cell_type": "code",
   "execution_count": 29,
   "metadata": {},
   "outputs": [],
   "source": [
    "f=open('test3.txt','r')\n",
    "body = f.read()\n",
    "f.close()\n",
    "\n",
    "body = body.replace('java','python')\n",
    "\n",
    "f=open('test3.txt','w')\n",
    "f.write(body)\n",
    "f.close()"
   ]
  }
 ],
 "metadata": {
  "kernelspec": {
   "display_name": "Python 3",
   "language": "python",
   "name": "python3"
  },
  "language_info": {
   "codemirror_mode": {
    "name": "ipython",
    "version": 3
   },
   "file_extension": ".py",
   "mimetype": "text/x-python",
   "name": "python",
   "nbconvert_exporter": "python",
   "pygments_lexer": "ipython3",
   "version": "3.7.4"
  }
 },
 "nbformat": 4,
 "nbformat_minor": 2
}
