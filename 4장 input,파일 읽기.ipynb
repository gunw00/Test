{
 "cells": [
  {
   "cell_type": "code",
   "execution_count": 1,
   "metadata": {},
   "outputs": [],
   "source": [
    "f = open('new.txt' ,'w')\n",
    "f.close()"
   ]
  },
  {
   "cell_type": "code",
   "execution_count": 2,
   "metadata": {},
   "outputs": [],
   "source": [
    "f = open(\"C:/doit/newfile.txt\",'w')\n",
    "f.close()"
   ]
  },
  {
   "cell_type": "code",
   "execution_count": 3,
   "metadata": {},
   "outputs": [],
   "source": [
    "f = open(\"C:/doit/newfile.txt\",'w')\n",
    "for i in range(1,11):\n",
    "    data = \"%d번째 줄 입니다.\\n\" % i\n",
    "    f.write(data)\n",
    "f.close()"
   ]
  },
  {
   "cell_type": "code",
   "execution_count": 6,
   "metadata": {},
   "outputs": [
    {
     "name": "stdout",
     "output_type": "stream",
     "text": [
      "1번째 줄 입니다.\n",
      "\n"
     ]
    }
   ],
   "source": [
    "f=open(\"C:/doit/newfile.txt\",'r')\n",
    "line=f.readline()\n",
    "print(line)\n",
    "f.close()"
   ]
  },
  {
   "cell_type": "code",
   "execution_count": 7,
   "metadata": {},
   "outputs": [
    {
     "name": "stdout",
     "output_type": "stream",
     "text": [
      "1번째 줄 입니다.\n",
      "\n",
      "2번째 줄 입니다.\n",
      "\n",
      "3번째 줄 입니다.\n",
      "\n",
      "4번째 줄 입니다.\n",
      "\n",
      "5번째 줄 입니다.\n",
      "\n",
      "6번째 줄 입니다.\n",
      "\n",
      "7번째 줄 입니다.\n",
      "\n",
      "8번째 줄 입니다.\n",
      "\n",
      "9번째 줄 입니다.\n",
      "\n",
      "10번째 줄 입니다.\n",
      "\n"
     ]
    }
   ],
   "source": [
    "f=open(\"C:/doit/newfile.txt\",'r')\n",
    "while True :\n",
    "    line = f.readline()\n",
    "    if not line: break\n",
    "    print(line)\n",
    "f.close()"
   ]
  },
  {
   "cell_type": "code",
   "execution_count": 8,
   "metadata": {},
   "outputs": [
    {
     "name": "stdout",
     "output_type": "stream",
     "text": [
      "1번째 줄 입니다.\n",
      "2번째 줄 입니다.\n",
      "3번째 줄 입니다.\n",
      "4번째 줄 입니다.\n",
      "5번째 줄 입니다.\n",
      "6번째 줄 입니다.\n",
      "7번째 줄 입니다.\n",
      "8번째 줄 입니다.\n",
      "9번째 줄 입니다.\n",
      "10번째 줄 입니다.\n",
      "\n"
     ]
    }
   ],
   "source": [
    "f=open(\"C:/doit/newfile.txt\",'r')\n",
    "data = f.read()\n",
    "print(data)\n",
    "f.close()"
   ]
  },
  {
   "cell_type": "code",
   "execution_count": 9,
   "metadata": {},
   "outputs": [],
   "source": [
    "f=open(\"C:/doit/newfile.txt\",'a')\n",
    "for i in range(11,21):\n",
    "    data = \"%d번째 줄 입니다.\\n\"%i\n",
    "    f.write(data)\n",
    "f.close()"
   ]
  },
  {
   "cell_type": "code",
   "execution_count": 10,
   "metadata": {},
   "outputs": [],
   "source": [
    "f = open('foo.txt','w')\n",
    "f.write(\"Life is too short, you need python\")\n",
    "f.close()"
   ]
  },
  {
   "cell_type": "code",
   "execution_count": 11,
   "metadata": {},
   "outputs": [],
   "source": [
    "with open(\"foo.txt\",'w') as f  :\n",
    "    f.write(\"Life is too short, you need python\")"
   ]
  },
  {
   "cell_type": "code",
   "execution_count": 12,
   "metadata": {},
   "outputs": [
    {
     "name": "stdout",
     "output_type": "stream",
     "text": [
      "-f\n",
      "C:\\Users\\NT500R\\AppData\\Roaming\\jupyter\\runtime\\kernel-8bf91e10-a4ef-4c77-8646-32b42645ff83.json\n"
     ]
    }
   ],
   "source": [
    "#sys1.py\n",
    "import sys\n",
    "\n",
    "args = sys.argv[1:]\n",
    "for i in args:\n",
    "    print(i)"
   ]
  }
 ],
 "metadata": {
  "kernelspec": {
   "display_name": "Python 3",
   "language": "python",
   "name": "python3"
  },
  "language_info": {
   "codemirror_mode": {
    "name": "ipython",
    "version": 3
   },
   "file_extension": ".py",
   "mimetype": "text/x-python",
   "name": "python",
   "nbconvert_exporter": "python",
   "pygments_lexer": "ipython3",
   "version": "3.7.4"
  }
 },
 "nbformat": 4,
 "nbformat_minor": 2
}
