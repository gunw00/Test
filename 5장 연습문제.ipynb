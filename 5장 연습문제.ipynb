{
 "cells": [
  {
   "cell_type": "code",
   "execution_count": 3,
   "metadata": {},
   "outputs": [
    {
     "name": "stdout",
     "output_type": "stream",
     "text": [
      "3\n"
     ]
    }
   ],
   "source": [
    "##Q1\n",
    "\"\"\"\n",
    "다음은 Calculator 클래스이다.\n",
    "\n",
    "class Calculator:\n",
    "    def __init__(self):\n",
    "        self.value = 0\n",
    "    \n",
    "    def add(self, val):\n",
    "        self.value += val\n",
    "\n",
    "위 클래스를 상속하는 UpgradeCalculator를 만들고 값을 뺄 수 있는 minus 메서드를 추가해 보자.\n",
    "즉 다음과 같이 동작하는 클래슬르 만들어야 한다.\n",
    "\n",
    "cal = UpgradeCalculator()\n",
    "cal.add(10)\n",
    "cal.minus(7)\n",
    "\n",
    "print(cal.value) #10에서 7을 뺀 3을 출력\n",
    "\"\"\"\n",
    "#풀이코드\n",
    "class Calculator:\n",
    "    def __init__(self):\n",
    "        self.value = 0\n",
    "    \n",
    "    def add(self, val):\n",
    "        self.value += val\n",
    "        \n",
    "class UpgradeCalculator(Calculator):\n",
    "    def minus(self,val):\n",
    "        self.value -= val\n",
    "\n",
    "cal = UpgradeCalculator()\n",
    "cal.add(10)\n",
    "cal.minus(7)\n",
    "\n",
    "print(cal.value)"
   ]
  },
  {
   "cell_type": "code",
   "execution_count": 6,
   "metadata": {},
   "outputs": [
    {
     "name": "stdout",
     "output_type": "stream",
     "text": [
      "100\n"
     ]
    }
   ],
   "source": [
    "##Q2\n",
    "\"\"\"\n",
    "객체변수 value가 100이상의 값은 가질 수 없도록 제한하는 MaxLimitCalculator 클래스\n",
    "를 만들어 보자. 즉 다음과 같이 동작해야 한다.\n",
    "\n",
    "cal = MaxLimitCalculator()\n",
    "cal.add(50) #plus 50\n",
    "cal.add(60) #plus 60\n",
    "\n",
    "print(cal.value) #print 100\n",
    "\n",
    "단 반드시 다음과 같은 Calculator 클래스를 상속해서 만들어야 한다.\n",
    "class Calculator:\n",
    "    def __init__(self):\n",
    "        self.value = 0\n",
    "    \n",
    "    def add(self, val):\n",
    "        self.value += val\n",
    "\"\"\"\n",
    "\n",
    "#풀이 코드\n",
    "class Calculator:\n",
    "    def __init__(self):\n",
    "        self.value = 0\n",
    "    \n",
    "    def add(self, val):\n",
    "        self.value += val\n",
    "        \n",
    "class MaxLimitCalculator(Calculator):\n",
    "    def add(self,val):\n",
    "        self.value += val\n",
    "        if self.value > 100:\n",
    "            self.value=100\n",
    "\n",
    "cal=MaxLimitCalculator()\n",
    "cal.add(60)\n",
    "cal.add(50)\n",
    "\n",
    "print(cal.value)"
   ]
  },
  {
   "cell_type": "code",
   "execution_count": 7,
   "metadata": {},
   "outputs": [
    {
     "name": "stdout",
     "output_type": "stream",
     "text": [
      "False True\n"
     ]
    }
   ],
   "source": [
    "##Q3\n",
    "\"\"\"\n",
    "다음 결과를 예측해 보자.\n",
    "\n",
    "1.\n",
    ">>> all([1,2,abs(-3)-3])\n",
    "\n",
    "2.\n",
    ">>> chr(ord('a')) == 'a'\n",
    "\"\"\"\n",
    "\n",
    "#풀이\n",
    "\"\"\"\n",
    "1 : False\n",
    "2 : True\n",
    "\"\"\"\n",
    "print(all([1,2,abs(-3)-3]),chr(ord('a')) == 'a')"
   ]
  },
  {
   "cell_type": "code",
   "execution_count": 9,
   "metadata": {},
   "outputs": [
    {
     "data": {
      "text/plain": [
       "[1, 3, 8]"
      ]
     },
     "execution_count": 9,
     "metadata": {},
     "output_type": "execute_result"
    }
   ],
   "source": [
    "##Q4\n",
    "\"filter와 lambda를 사용하여 리스트[1,-2,3,-5,8,-3]에서 음수를 모두 제거해 보자.\"\n",
    "\n",
    "#풀이코드\n",
    "list(filter(lambda x: x>0 ,[1,-2,3,-5,8,-3]))"
   ]
  },
  {
   "cell_type": "code",
   "execution_count": 2,
   "metadata": {},
   "outputs": [
    {
     "data": {
      "text/plain": [
       "234"
      ]
     },
     "execution_count": 2,
     "metadata": {},
     "output_type": "execute_result"
    }
   ],
   "source": [
    "##Q5\n",
    "\"\"\"\n",
    "234라는 10진수의 16진수는 다음과 같이 구할 수 있다.\n",
    "\n",
    ">>>hex(234)\n",
    "'0xea'\n",
    "\n",
    "이번에는 반대로 16진수 문자열 0xea를 10진수로 변경해 보자.\n",
    "\"\"\"\n",
    "\n",
    "#풀이코드\n",
    "hex(234)\n",
    "int(hex(234),16)"
   ]
  },
  {
   "cell_type": "code",
   "execution_count": 3,
   "metadata": {},
   "outputs": [
    {
     "data": {
      "text/plain": [
       "[3, 6, 9, 12]"
      ]
     },
     "execution_count": 3,
     "metadata": {},
     "output_type": "execute_result"
    }
   ],
   "source": [
    "##Q6\n",
    "\"map과 lambda를 사용하여[1,2,3,4]리스트의 각 요솟값에 3이 곱해진 리스트[3,6,9,12]를 만드시오\"\n",
    "\n",
    "#풀이코드\n",
    "list(map(lambda x: x*3,[1,2,3,4]))"
   ]
  },
  {
   "cell_type": "code",
   "execution_count": 5,
   "metadata": {},
   "outputs": [
    {
     "data": {
      "text/plain": [
       "-1"
      ]
     },
     "execution_count": 5,
     "metadata": {},
     "output_type": "execute_result"
    }
   ],
   "source": [
    "##Q7\n",
    "\"\"\"\n",
    "다음 리스트의 최댓값과 최솟값의 합을 구해보자.\n",
    "[-8,2,7,5,-3,5,0,1]\n",
    "\"\"\"\n",
    "\n",
    "#풀이코드\n",
    "a = [-8,2,7,5,-3,5,0,1]\n",
    "def sumMm(x) :\n",
    "    return max(x)+min(x)\n",
    "\n",
    "sumMm(a)"
   ]
  },
  {
   "cell_type": "code",
   "execution_count": 6,
   "metadata": {},
   "outputs": [
    {
     "data": {
      "text/plain": [
       "5.6667"
      ]
     },
     "execution_count": 6,
     "metadata": {},
     "output_type": "execute_result"
    }
   ],
   "source": [
    "##Q8\n",
    "\"\"\"\n",
    "17/3 = 5.66666666666667을 소수점 4자리까지만 반올림하기\n",
    "\"\"\"\n",
    "\n",
    "#풀이코드\n",
    "round(17/3,4)\n"
   ]
  },
  {
   "cell_type": "code",
   "execution_count": 7,
   "metadata": {},
   "outputs": [
    {
     "ename": "ValueError",
     "evalue": "invalid literal for int() with base 10: '-f'",
     "output_type": "error",
     "traceback": [
      "\u001b[1;31m---------------------------------------------------------------------------\u001b[0m",
      "\u001b[1;31mValueError\u001b[0m                                Traceback (most recent call last)",
      "\u001b[1;32m<ipython-input-7-d1877b4c2e39>\u001b[0m in \u001b[0;36m<module>\u001b[1;34m\u001b[0m\n\u001b[0;32m      8\u001b[0m \u001b[0mresult\u001b[0m \u001b[1;33m=\u001b[0m \u001b[1;36m0\u001b[0m\u001b[1;33m\u001b[0m\u001b[1;33m\u001b[0m\u001b[0m\n\u001b[0;32m      9\u001b[0m \u001b[1;32mfor\u001b[0m \u001b[0mi\u001b[0m \u001b[1;32min\u001b[0m \u001b[0mnum\u001b[0m\u001b[1;33m:\u001b[0m\u001b[1;33m\u001b[0m\u001b[1;33m\u001b[0m\u001b[0m\n\u001b[1;32m---> 10\u001b[1;33m     \u001b[0mresult\u001b[0m \u001b[1;33m+=\u001b[0m \u001b[0mint\u001b[0m\u001b[1;33m(\u001b[0m\u001b[0mi\u001b[0m\u001b[1;33m)\u001b[0m\u001b[1;33m\u001b[0m\u001b[1;33m\u001b[0m\u001b[0m\n\u001b[0m\u001b[0;32m     11\u001b[0m \u001b[0mprint\u001b[0m\u001b[1;33m(\u001b[0m\u001b[0mresult\u001b[0m\u001b[1;33m)\u001b[0m\u001b[1;33m\u001b[0m\u001b[1;33m\u001b[0m\u001b[0m\n",
      "\u001b[1;31mValueError\u001b[0m: invalid literal for int() with base 10: '-f'"
     ]
    }
   ],
   "source": [
    "##Q9\n",
    "\"입력값을 모두 더하여 출력하는 스크립트를 작성하기\"\n",
    "\n",
    "#풀이코드\n",
    "import sys\n",
    "\n",
    "num = sys.argv[1:]\n",
    "result = 0\n",
    "for i in num:\n",
    "    result += int(i)\n",
    "print(result)"
   ]
  },
  {
   "cell_type": "code",
   "execution_count": 8,
   "metadata": {},
   "outputs": [
    {
     "name": "stdout",
     "output_type": "stream",
     "text": [
      " C 드라이브의 볼륨에는 이름이 없습니다.\n",
      " 볼륨 일련 번호: A057-1A23\n",
      "\n",
      " C:\\doit 디렉터리\n",
      "\n",
      "2020-01-23  오전 09:55    <DIR>          .\n",
      "2020-01-23  오전 09:55    <DIR>          ..\n",
      "2019-12-23  오전 11:07                99 hello.py\n",
      "2019-12-27  오전 10:02                48 Indexing and slicing.py\n",
      "2020-01-21  오전 10:15               168 mod2.py\n",
      "2020-01-23  오전 09:55               236 myargv.py\n",
      "2020-01-20  오전 10:04               371 newfile.txt\n",
      "               5개 파일                 922 바이트\n",
      "               2개 디렉터리  46,281,334,784 바이트 남음\n",
      "\n"
     ]
    }
   ],
   "source": [
    "##Q10\n",
    "\"\"\"\n",
    "os모듈을 사용하여 다음과 같이 동작하도록 코드를 작성해 보자.\n",
    "1.C:\\doit 디렉터리로 이동한다.\n",
    "2.dir 명령을 실행하고 그 결과를 변수에 담는다.\n",
    "3.dir 명령의 결과를 출력한다.\n",
    "\"\"\"\n",
    "\n",
    "#풀이코드\n",
    "import os\n",
    "os.chdir(\"C:\\doit\")\n",
    "f = os.popen('dir')\n",
    "print(f.read())\n"
   ]
  },
  {
   "cell_type": "code",
   "execution_count": 9,
   "metadata": {},
   "outputs": [
    {
     "data": {
      "text/plain": [
       "['C:\\\\doit\\\\hello.py',\n",
       " 'C:\\\\doit\\\\Indexing and slicing.py',\n",
       " 'C:\\\\doit\\\\mod2.py',\n",
       " 'C:\\\\doit\\\\myargv.py']"
      ]
     },
     "execution_count": 9,
     "metadata": {},
     "output_type": "execute_result"
    }
   ],
   "source": [
    "##Q11\n",
    "\"\"\"\n",
    "glob 모듈을 사용하여 C:\\doit디렉터리의 파일 중 확장자가 .py인 파일만 출력하는 프로그램작성.\n",
    "\"\"\"\n",
    "\n",
    "#풀이코드\n",
    "import glob as gl\n",
    "gl.glob(\"C:\\doit\\*.py\")"
   ]
  },
  {
   "cell_type": "code",
   "execution_count": 22,
   "metadata": {},
   "outputs": [
    {
     "data": {
      "text/plain": [
       "'Thu Jan 23 10:25:43 2020'"
      ]
     },
     "execution_count": 22,
     "metadata": {},
     "output_type": "execute_result"
    }
   ],
   "source": [
    "##Q12\n",
    "\"\"\"\n",
    "time 모듈을 사용하여 현재 날찌와 시간을 다음과 같은 형식으로 출력해 보자.\n",
    "\n",
    "2018/04/03 17:20:32\n",
    "\"\"\"\n",
    "\n",
    "#풀이코드\n",
    "import time as t\n",
    "t.strftime('%c',t.localtime(t.time()))"
   ]
  },
  {
   "cell_type": "code",
   "execution_count": 26,
   "metadata": {},
   "outputs": [
    {
     "name": "stdout",
     "output_type": "stream",
     "text": [
      "[18, 23, 42, 40, 35, 11]\n"
     ]
    }
   ],
   "source": [
    "##Q13\n",
    "\"random 모듈을 사용하여 로또 번호(1~45 사이의 숫자 6개)를 생성해보기.(단, 중복 x)\"\n",
    "import random as rd\n",
    "\n",
    "result = []\n",
    "while len(result)<6 :\n",
    "    num = rd.randint(1,45)\n",
    "    if num not in result:\n",
    "        result.append(num)\n",
    "        \n",
    "print(result)"
   ]
  }
 ],
 "metadata": {
  "kernelspec": {
   "display_name": "Python 3",
   "language": "python",
   "name": "python3"
  },
  "language_info": {
   "codemirror_mode": {
    "name": "ipython",
    "version": 3
   },
   "file_extension": ".py",
   "mimetype": "text/x-python",
   "name": "python",
   "nbconvert_exporter": "python",
   "pygments_lexer": "ipython3",
   "version": "3.7.4"
  }
 },
 "nbformat": 4,
 "nbformat_minor": 2
}
