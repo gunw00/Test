{
 "cells": [
  {
   "cell_type": "code",
   "execution_count": 2,
   "metadata": {},
   "outputs": [
    {
     "name": "stdout",
     "output_type": "stream",
     "text": [
      "나무를 1번 찍었습니다.\n",
      "나무를 2번 찍었습니다.\n",
      "나무를 3번 찍었습니다.\n",
      "나무를 4번 찍었습니다.\n",
      "나무를 5번 찍었습니다.\n",
      "나무를 6번 찍었습니다.\n",
      "나무를 7번 찍었습니다.\n",
      "나무를 8번 찍었습니다.\n",
      "나무를 9번 찍었습니다.\n",
      "나무를 10번 찍었습니다.\n",
      "나무 넘어갑니다.\n"
     ]
    }
   ],
   "source": [
    "treehit = 0\n",
    "while treehit<10 :\n",
    "    treehit+=1\n",
    "    print(\"나무를 %s번 찍었습니다.\"%treehit)\n",
    "    if treehit==10:\n",
    "        print(\"나무 넘어갑니다.\")"
   ]
  },
  {
   "cell_type": "code",
   "execution_count": 3,
   "metadata": {},
   "outputs": [
    {
     "name": "stdout",
     "output_type": "stream",
     "text": [
      "\n",
      "1.Add\n",
      "2.Del\n",
      "3.List\n",
      "4.Quit\n",
      "\n",
      "Enter number : \n",
      "1\n",
      "\n",
      "1.Add\n",
      "2.Del\n",
      "3.List\n",
      "4.Quit\n",
      "\n",
      "Enter number : \n",
      "2\n",
      "\n",
      "1.Add\n",
      "2.Del\n",
      "3.List\n",
      "4.Quit\n",
      "\n",
      "Enter number : \n",
      "3\n",
      "\n",
      "1.Add\n",
      "2.Del\n",
      "3.List\n",
      "4.Quit\n",
      "\n",
      "Enter number : \n",
      "4\n"
     ]
    }
   ],
   "source": [
    "prompt = \"\"\"\n",
    "1.Add\n",
    "2.Del\n",
    "3.List\n",
    "4.Quit\n",
    "\n",
    "Enter number : \"\"\"\n",
    "\n",
    "number = 0\n",
    "while number !=4 :\n",
    "    print(prompt)\n",
    "    number = int(input())"
   ]
  },
  {
   "cell_type": "code",
   "execution_count": 4,
   "metadata": {},
   "outputs": [
    {
     "name": "stdout",
     "output_type": "stream",
     "text": [
      "돈을 받았으니 커피를 줍니다.\n",
      "남은 커피의 양은 9개입니다.\n",
      "돈을 받았으니 커피를 줍니다.\n",
      "남은 커피의 양은 8개입니다.\n",
      "돈을 받았으니 커피를 줍니다.\n",
      "남은 커피의 양은 7개입니다.\n",
      "돈을 받았으니 커피를 줍니다.\n",
      "남은 커피의 양은 6개입니다.\n",
      "돈을 받았으니 커피를 줍니다.\n",
      "남은 커피의 양은 5개입니다.\n",
      "돈을 받았으니 커피를 줍니다.\n",
      "남은 커피의 양은 4개입니다.\n",
      "돈을 받았으니 커피를 줍니다.\n",
      "남은 커피의 양은 3개입니다.\n",
      "돈을 받았으니 커피를 줍니다.\n",
      "남은 커피의 양은 2개입니다.\n",
      "돈을 받았으니 커피를 줍니다.\n",
      "남은 커피의 양은 1개입니다.\n",
      "돈을 받았으니 커피를 줍니다.\n",
      "남은 커피의 양은 0개입니다.\n",
      "커피가 다 떨어졌습니다. 판매를 중지합니다.\n"
     ]
    }
   ],
   "source": [
    "coffee = 10\n",
    "money = 300\n",
    "while money:\n",
    "    print(\"돈을 받았으니 커피를 줍니다.\")\n",
    "    coffee -= 1\n",
    "    print(\"남은 커피의 양은 %s개입니다.\"%coffee)\n",
    "    if coffee==0 :\n",
    "        print(\"커피가 다 떨어졌습니다. 판매를 중지합니다.\")\n",
    "        break"
   ]
  },
  {
   "cell_type": "code",
   "execution_count": 5,
   "metadata": {},
   "outputs": [
    {
     "name": "stdout",
     "output_type": "stream",
     "text": [
      "Please put your money.1000\n",
      "Take 700$ of change and coffee.\n",
      "Please put your money.500\n",
      "Take 200$ of change and coffee.\n",
      "Please put your money.200\n",
      "Need an extra 100$.\n",
      "The amount of coffee left is 8.\n",
      "Please put your money.333\n",
      "Take 33$ of change and coffee.\n",
      "Please put your money.9999\n",
      "Take 9699$ of change and coffee.\n",
      "Please put your money.8888\n",
      "Take 8588$ of change and coffee.\n",
      "Please put your money.7777\n",
      "Take 7477$ of change and coffee.\n",
      "Please put your money.6666\n",
      "Take 6366$ of change and coffee.\n",
      "Please put your money.5555\n",
      "Take 5255$ of change and coffee.\n",
      "Please put your money.4444\n",
      "Take 4144$ of change and coffee.\n",
      "Please put your money.2222\n",
      "Take 1922$ of change and coffee.\n",
      "Sold out.\n"
     ]
    }
   ],
   "source": [
    "#coffee.py\n",
    "coffee = 10\n",
    "while True :\n",
    "    money = int(input(\"Please put your money.\"))\n",
    "    if money == 300 :\n",
    "        print(\"Take your coffee.\")\n",
    "        coffee -= 1\n",
    "    elif money>300:\n",
    "        print(\"Take %s\\ of change and coffee.\" % (money-300))\n",
    "        coffee -= 1\n",
    "    else :\n",
    "        print(\"Need an extra %s\\.\"%(300-money))\n",
    "        print(\"The amount of coffee left is %s.\" %coffee)\n",
    "    if coffee ==0:\n",
    "        print(\"Sold out.\")\n",
    "        break"
   ]
  },
  {
   "cell_type": "code",
   "execution_count": 6,
   "metadata": {},
   "outputs": [
    {
     "name": "stdout",
     "output_type": "stream",
     "text": [
      "1\n",
      "3\n",
      "5\n",
      "7\n",
      "9\n"
     ]
    }
   ],
   "source": [
    "a=0\n",
    "while a<10:\n",
    "    a+=1\n",
    "    if a%2==0:continue\n",
    "    print(a)"
   ]
  }
 ],
 "metadata": {
  "kernelspec": {
   "display_name": "Python 3",
   "language": "python",
   "name": "python3"
  },
  "language_info": {
   "codemirror_mode": {
    "name": "ipython",
    "version": 3
   },
   "file_extension": ".py",
   "mimetype": "text/x-python",
   "name": "python",
   "nbconvert_exporter": "python",
   "pygments_lexer": "ipython3",
   "version": "3.7.4"
  }
 },
 "nbformat": 4,
 "nbformat_minor": 2
}
